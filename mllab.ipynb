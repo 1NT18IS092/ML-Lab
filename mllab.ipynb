{
 "cells": [
  {
   "cell_type": "code",
   "execution_count": 90,
   "id": "narrative-noise",
   "metadata": {},
   "outputs": [],
   "source": [
    "arr=[1,2,3,4,5,6,25,7,7,7,10,10,10,10,10,77,12,14]"
   ]
  },
  {
   "cell_type": "code",
   "execution_count": 91,
   "id": "numeric-australian",
   "metadata": {},
   "outputs": [],
   "source": [
    "n = len(arr)"
   ]
  },
  {
   "cell_type": "code",
   "execution_count": 92,
   "id": "outstanding-queensland",
   "metadata": {},
   "outputs": [
    {
     "data": {
      "text/plain": [
       "18"
      ]
     },
     "execution_count": 92,
     "metadata": {},
     "output_type": "execute_result"
    }
   ],
   "source": [
    "n"
   ]
  },
  {
   "cell_type": "code",
   "execution_count": 93,
   "id": "civic-medicine",
   "metadata": {},
   "outputs": [],
   "source": [
    "def mean(arr):\n",
    "    s=0\n",
    "    for i in range(len(arr)):\n",
    "        s=s+arr[i]\n",
    "    \n",
    "    val=s/len(arr)\n",
    "    return val\n",
    "    "
   ]
  },
  {
   "cell_type": "code",
   "execution_count": 94,
   "id": "difficult-budget",
   "metadata": {},
   "outputs": [
    {
     "data": {
      "text/plain": [
       "12.222222222222221"
      ]
     },
     "execution_count": 94,
     "metadata": {},
     "output_type": "execute_result"
    }
   ],
   "source": [
    "mean(arr)\n"
   ]
  },
  {
   "cell_type": "code",
   "execution_count": 95,
   "id": "irish-batch",
   "metadata": {},
   "outputs": [],
   "source": [
    "import math\n",
    "def median(arr):\n",
    "    return arr[math.ceil(len(arr)/2)]"
   ]
  },
  {
   "cell_type": "code",
   "execution_count": 96,
   "id": "biblical-nylon",
   "metadata": {},
   "outputs": [
    {
     "data": {
      "text/plain": [
       "7"
      ]
     },
     "execution_count": 96,
     "metadata": {},
     "output_type": "execute_result"
    }
   ],
   "source": [
    "median(arr)\n"
   ]
  },
  {
   "cell_type": "code",
   "execution_count": 97,
   "id": "structural-battlefield",
   "metadata": {},
   "outputs": [],
   "source": [
    "def mode(arr):\n",
    "    feq=0\n",
    "    val=0\n",
    "    for i in range(len(arr)):\n",
    "        temp=arr[i]\n",
    "        count=0\n",
    "        for j in range(len(arr)):\n",
    "            if(arr[j]==temp):\n",
    "                count=count+1\n",
    "        if(count>feq):\n",
    "            val=temp\n",
    "            feq=count\n",
    "    return val"
   ]
  },
  {
   "cell_type": "code",
   "execution_count": 98,
   "id": "quality-attention",
   "metadata": {},
   "outputs": [
    {
     "data": {
      "text/plain": [
       "10"
      ]
     },
     "execution_count": 98,
     "metadata": {},
     "output_type": "execute_result"
    }
   ],
   "source": [
    "mode(arr)"
   ]
  },
  {
   "cell_type": "code",
   "execution_count": 99,
   "id": "graphic-modem",
   "metadata": {},
   "outputs": [],
   "source": [
    "def var(arr):\n",
    "    size=len(arr)\n",
    "    m=mean(arr)\n",
    "    dev=[(x-m)**2 for x in arr]\n",
    "    res=sum(dev)\n",
    "    res=res/n\n",
    "    return res\n",
    "    \n",
    "    "
   ]
  },
  {
   "cell_type": "code",
   "execution_count": 100,
   "id": "relevant-retrieval",
   "metadata": {},
   "outputs": [
    {
     "data": {
      "text/plain": [
       "274.61728395061715"
      ]
     },
     "execution_count": 100,
     "metadata": {},
     "output_type": "execute_result"
    }
   ],
   "source": [
    "var(arr)"
   ]
  },
  {
   "cell_type": "code",
   "execution_count": 101,
   "id": "romance-basket",
   "metadata": {},
   "outputs": [],
   "source": [
    "import math\n",
    "def sd(arr):\n",
    "    temp=var(arr)\n",
    "    temp=math.sqrt(temp)\n",
    "    return temp"
   ]
  },
  {
   "cell_type": "code",
   "execution_count": 102,
   "id": "legendary-sample",
   "metadata": {},
   "outputs": [
    {
     "data": {
      "text/plain": [
       "16.571580611113024"
      ]
     },
     "execution_count": 102,
     "metadata": {},
     "output_type": "execute_result"
    }
   ],
   "source": [
    "sd(arr)"
   ]
  },
  {
   "cell_type": "code",
   "execution_count": 103,
   "id": "assured-bloom",
   "metadata": {},
   "outputs": [],
   "source": [
    "def bubble(arr):\n",
    "    for i in range(len(arr)):\n",
    "        k=i+1\n",
    "        for j in range(k,len(arr)):\n",
    "            if(arr[i]>arr[j]):\n",
    "                temp=arr[i]\n",
    "                arr[i]=arr[j]\n",
    "                arr[j]=temp\n",
    "    \n",
    "    return arr"
   ]
  },
  {
   "cell_type": "code",
   "execution_count": 104,
   "id": "posted-edgar",
   "metadata": {},
   "outputs": [
    {
     "data": {
      "text/plain": [
       "[1, 2, 3, 4, 5, 6, 7, 7, 7, 10, 10, 10, 10, 10, 12, 14, 25, 77]"
      ]
     },
     "execution_count": 104,
     "metadata": {},
     "output_type": "execute_result"
    }
   ],
   "source": [
    "bubble(arr)"
   ]
  },
  {
   "cell_type": "code",
   "execution_count": 109,
   "id": "subjective-briefing",
   "metadata": {},
   "outputs": [],
   "source": [
    "     "
   ]
  },
  {
   "cell_type": "code",
   "execution_count": 107,
   "id": "collectible-accounting",
   "metadata": {},
   "outputs": [],
   "source": []
  },
  {
   "cell_type": "code",
   "execution_count": null,
   "id": "protecting-support",
   "metadata": {},
   "outputs": [],
   "source": []
  },
  {
   "cell_type": "code",
   "execution_count": null,
   "id": "brutal-sleeping",
   "metadata": {},
   "outputs": [],
   "source": []
  }
 ],
 "metadata": {
  "kernelspec": {
   "display_name": "Python 3",
   "language": "python",
   "name": "python3"
  },
  "language_info": {
   "codemirror_mode": {
    "name": "ipython",
    "version": 3
   },
   "file_extension": ".py",
   "mimetype": "text/x-python",
   "name": "python",
   "nbconvert_exporter": "python",
   "pygments_lexer": "ipython3",
   "version": "3.7.3"
  }
 },
 "nbformat": 4,
 "nbformat_minor": 5
}
